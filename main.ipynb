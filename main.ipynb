{
 "cells": [
  {
   "cell_type": "code",
   "execution_count": 2,
   "metadata": {},
   "outputs": [],
   "source": [
    "import pandas as pd\n",
    "import numpy as np\n",
    "import matplotlib.pyplot as plt\n",
    "import seaborn as sns\n",
    "from sklearn.preprocessing import LabelEncoder\n",
    "from scipy.stats import zscore"
   ]
  },
  {
   "cell_type": "code",
   "execution_count": 3,
   "metadata": {},
   "outputs": [
    {
     "name": "stderr",
     "output_type": "stream",
     "text": [
      "<>:1: SyntaxWarning: invalid escape sequence '\\S'\n",
      "<>:1: SyntaxWarning: invalid escape sequence '\\S'\n",
      "C:\\Users\\athar\\AppData\\Local\\Temp\\ipykernel_26804\\2033229203.py:1: SyntaxWarning: invalid escape sequence '\\S'\n",
      "  file_path = 'C:\\SpringBoard\\Waste_Management_Project\\Dataset\\Dataset.xlsx'\n"
     ]
    }
   ],
   "source": [
    "file_path = 'C:\\SpringBoard\\Waste_Management_Project\\Dataset\\Dataset.xlsx' \n",
    "waste_data = pd.read_excel(file_path)\n"
   ]
  },
  {
   "cell_type": "code",
   "execution_count": 4,
   "metadata": {},
   "outputs": [
    {
     "data": {
      "text/html": [
       "<div>\n",
       "<style scoped>\n",
       "    .dataframe tbody tr th:only-of-type {\n",
       "        vertical-align: middle;\n",
       "    }\n",
       "\n",
       "    .dataframe tbody tr th {\n",
       "        vertical-align: top;\n",
       "    }\n",
       "\n",
       "    .dataframe thead th {\n",
       "        text-align: right;\n",
       "    }\n",
       "</style>\n",
       "<table border=\"1\" class=\"dataframe\">\n",
       "  <thead>\n",
       "    <tr style=\"text-align: right;\">\n",
       "      <th></th>\n",
       "      <th>sensor_id</th>\n",
       "      <th>timestamp</th>\n",
       "      <th>waste_type</th>\n",
       "      <th>inductive_property</th>\n",
       "      <th>capacitive_property</th>\n",
       "      <th>moisture_property</th>\n",
       "      <th>infrared_property</th>\n",
       "    </tr>\n",
       "  </thead>\n",
       "  <tbody>\n",
       "    <tr>\n",
       "      <th>0</th>\n",
       "      <td>3</td>\n",
       "      <td>2023-09-01 12:00:00</td>\n",
       "      <td>non_recyclable</td>\n",
       "      <td>0.90</td>\n",
       "      <td>0.12</td>\n",
       "      <td>0.47</td>\n",
       "      <td>16.27</td>\n",
       "    </tr>\n",
       "    <tr>\n",
       "      <th>1</th>\n",
       "      <td>4</td>\n",
       "      <td>2023-09-01 12:15:00</td>\n",
       "      <td>recyclable</td>\n",
       "      <td>1.18</td>\n",
       "      <td>0.66</td>\n",
       "      <td>0.33</td>\n",
       "      <td>36.00</td>\n",
       "    </tr>\n",
       "    <tr>\n",
       "      <th>2</th>\n",
       "      <td>3</td>\n",
       "      <td>2023-09-01 12:30:00</td>\n",
       "      <td>non_recyclable</td>\n",
       "      <td>0.87</td>\n",
       "      <td>0.14</td>\n",
       "      <td>0.83</td>\n",
       "      <td>58.89</td>\n",
       "    </tr>\n",
       "    <tr>\n",
       "      <th>3</th>\n",
       "      <td>2</td>\n",
       "      <td>2023-09-01 12:45:00</td>\n",
       "      <td>organic</td>\n",
       "      <td>1.00</td>\n",
       "      <td>0.37</td>\n",
       "      <td>0.52</td>\n",
       "      <td>91.80</td>\n",
       "    </tr>\n",
       "    <tr>\n",
       "      <th>4</th>\n",
       "      <td>3</td>\n",
       "      <td>2023-09-01 13:00:00</td>\n",
       "      <td>recyclable</td>\n",
       "      <td>1.39</td>\n",
       "      <td>0.88</td>\n",
       "      <td>0.76</td>\n",
       "      <td>98.83</td>\n",
       "    </tr>\n",
       "    <tr>\n",
       "      <th>...</th>\n",
       "      <td>...</td>\n",
       "      <td>...</td>\n",
       "      <td>...</td>\n",
       "      <td>...</td>\n",
       "      <td>...</td>\n",
       "      <td>...</td>\n",
       "      <td>...</td>\n",
       "    </tr>\n",
       "    <tr>\n",
       "      <th>19995</th>\n",
       "      <td>4</td>\n",
       "      <td>2024-03-27 18:45:00</td>\n",
       "      <td>non_recyclable</td>\n",
       "      <td>1.30</td>\n",
       "      <td>0.41</td>\n",
       "      <td>0.46</td>\n",
       "      <td>58.57</td>\n",
       "    </tr>\n",
       "    <tr>\n",
       "      <th>19996</th>\n",
       "      <td>4</td>\n",
       "      <td>2024-03-27 19:00:00</td>\n",
       "      <td>non_recyclable</td>\n",
       "      <td>0.68</td>\n",
       "      <td>0.87</td>\n",
       "      <td>0.71</td>\n",
       "      <td>12.00</td>\n",
       "    </tr>\n",
       "    <tr>\n",
       "      <th>19997</th>\n",
       "      <td>3</td>\n",
       "      <td>2024-03-27 19:15:00</td>\n",
       "      <td>non_recyclable</td>\n",
       "      <td>1.12</td>\n",
       "      <td>0.79</td>\n",
       "      <td>0.07</td>\n",
       "      <td>29.03</td>\n",
       "    </tr>\n",
       "    <tr>\n",
       "      <th>19998</th>\n",
       "      <td>2</td>\n",
       "      <td>2024-03-27 19:30:00</td>\n",
       "      <td>organic</td>\n",
       "      <td>1.18</td>\n",
       "      <td>0.05</td>\n",
       "      <td>0.05</td>\n",
       "      <td>40.17</td>\n",
       "    </tr>\n",
       "    <tr>\n",
       "      <th>19999</th>\n",
       "      <td>4</td>\n",
       "      <td>2024-03-27 19:45:00</td>\n",
       "      <td>non_recyclable</td>\n",
       "      <td>1.22</td>\n",
       "      <td>0.02</td>\n",
       "      <td>0.31</td>\n",
       "      <td>18.62</td>\n",
       "    </tr>\n",
       "  </tbody>\n",
       "</table>\n",
       "<p>20000 rows × 7 columns</p>\n",
       "</div>"
      ],
      "text/plain": [
       "       sensor_id           timestamp      waste_type  inductive_property  \\\n",
       "0              3 2023-09-01 12:00:00  non_recyclable                0.90   \n",
       "1              4 2023-09-01 12:15:00      recyclable                1.18   \n",
       "2              3 2023-09-01 12:30:00  non_recyclable                0.87   \n",
       "3              2 2023-09-01 12:45:00         organic                1.00   \n",
       "4              3 2023-09-01 13:00:00      recyclable                1.39   \n",
       "...          ...                 ...             ...                 ...   \n",
       "19995          4 2024-03-27 18:45:00  non_recyclable                1.30   \n",
       "19996          4 2024-03-27 19:00:00  non_recyclable                0.68   \n",
       "19997          3 2024-03-27 19:15:00  non_recyclable                1.12   \n",
       "19998          2 2024-03-27 19:30:00         organic                1.18   \n",
       "19999          4 2024-03-27 19:45:00  non_recyclable                1.22   \n",
       "\n",
       "       capacitive_property  moisture_property  infrared_property  \n",
       "0                     0.12               0.47              16.27  \n",
       "1                     0.66               0.33              36.00  \n",
       "2                     0.14               0.83              58.89  \n",
       "3                     0.37               0.52              91.80  \n",
       "4                     0.88               0.76              98.83  \n",
       "...                    ...                ...                ...  \n",
       "19995                 0.41               0.46              58.57  \n",
       "19996                 0.87               0.71              12.00  \n",
       "19997                 0.79               0.07              29.03  \n",
       "19998                 0.05               0.05              40.17  \n",
       "19999                 0.02               0.31              18.62  \n",
       "\n",
       "[20000 rows x 7 columns]"
      ]
     },
     "execution_count": 4,
     "metadata": {},
     "output_type": "execute_result"
    }
   ],
   "source": [
    "waste_data"
   ]
  },
  {
   "cell_type": "code",
   "execution_count": 6,
   "metadata": {},
   "outputs": [
    {
     "name": "stdout",
     "output_type": "stream",
     "text": [
      "Initial Data Overview:\n",
      "<class 'pandas.core.frame.DataFrame'>\n",
      "RangeIndex: 20000 entries, 0 to 19999\n",
      "Data columns (total 7 columns):\n",
      " #   Column               Non-Null Count  Dtype         \n",
      "---  ------               --------------  -----         \n",
      " 0   sensor_id            20000 non-null  int64         \n",
      " 1   timestamp            20000 non-null  datetime64[ns]\n",
      " 2   waste_type           20000 non-null  object        \n",
      " 3   inductive_property   20000 non-null  float64       \n",
      " 4   capacitive_property  20000 non-null  float64       \n",
      " 5   moisture_property    20000 non-null  float64       \n",
      " 6   infrared_property    20000 non-null  float64       \n",
      "dtypes: datetime64[ns](1), float64(4), int64(1), object(1)\n",
      "memory usage: 1.1+ MB\n",
      "None\n",
      "   sensor_id           timestamp      waste_type  inductive_property  \\\n",
      "0          3 2023-09-01 12:00:00  non_recyclable                0.90   \n",
      "1          4 2023-09-01 12:15:00      recyclable                1.18   \n",
      "2          3 2023-09-01 12:30:00  non_recyclable                0.87   \n",
      "3          2 2023-09-01 12:45:00         organic                1.00   \n",
      "4          3 2023-09-01 13:00:00      recyclable                1.39   \n",
      "\n",
      "   capacitive_property  moisture_property  infrared_property  \n",
      "0                 0.12               0.47              16.27  \n",
      "1                 0.66               0.33              36.00  \n",
      "2                 0.14               0.83              58.89  \n",
      "3                 0.37               0.52              91.80  \n",
      "4                 0.88               0.76              98.83  \n"
     ]
    }
   ],
   "source": [
    "print(\"Initial Data Overview:\")\n",
    "print(waste_data.info())\n",
    "print(waste_data.head())"
   ]
  },
  {
   "cell_type": "code",
   "execution_count": 7,
   "metadata": {},
   "outputs": [
    {
     "name": "stdout",
     "output_type": "stream",
     "text": [
      "\n",
      "Missing Values Before Handling:\n",
      "sensor_id              0\n",
      "timestamp              0\n",
      "waste_type             0\n",
      "inductive_property     0\n",
      "capacitive_property    0\n",
      "moisture_property      0\n",
      "infrared_property      0\n",
      "dtype: int64\n"
     ]
    }
   ],
   "source": [
    "print(\"\\nMissing Values Before Handling:\")\n",
    "print(waste_data.isnull().sum())"
   ]
  },
  {
   "cell_type": "code",
   "execution_count": 8,
   "metadata": {},
   "outputs": [],
   "source": [
    "waste_data['timestamp'] = pd.to_datetime(waste_data['timestamp'])"
   ]
  },
  {
   "cell_type": "code",
   "execution_count": 9,
   "metadata": {},
   "outputs": [],
   "source": [
    "label_encoder = LabelEncoder()\n",
    "waste_data['waste_type'] = label_encoder.fit_transform(waste_data['waste_type'])"
   ]
  },
  {
   "cell_type": "code",
   "execution_count": 10,
   "metadata": {},
   "outputs": [
    {
     "data": {
      "text/html": [
       "<div>\n",
       "<style scoped>\n",
       "    .dataframe tbody tr th:only-of-type {\n",
       "        vertical-align: middle;\n",
       "    }\n",
       "\n",
       "    .dataframe tbody tr th {\n",
       "        vertical-align: top;\n",
       "    }\n",
       "\n",
       "    .dataframe thead th {\n",
       "        text-align: right;\n",
       "    }\n",
       "</style>\n",
       "<table border=\"1\" class=\"dataframe\">\n",
       "  <thead>\n",
       "    <tr style=\"text-align: right;\">\n",
       "      <th></th>\n",
       "      <th>sensor_id</th>\n",
       "      <th>timestamp</th>\n",
       "      <th>waste_type</th>\n",
       "      <th>inductive_property</th>\n",
       "      <th>capacitive_property</th>\n",
       "      <th>moisture_property</th>\n",
       "      <th>infrared_property</th>\n",
       "    </tr>\n",
       "  </thead>\n",
       "  <tbody>\n",
       "    <tr>\n",
       "      <th>0</th>\n",
       "      <td>3</td>\n",
       "      <td>2023-09-01 12:00:00</td>\n",
       "      <td>0</td>\n",
       "      <td>0.90</td>\n",
       "      <td>0.12</td>\n",
       "      <td>0.47</td>\n",
       "      <td>16.27</td>\n",
       "    </tr>\n",
       "    <tr>\n",
       "      <th>1</th>\n",
       "      <td>4</td>\n",
       "      <td>2023-09-01 12:15:00</td>\n",
       "      <td>2</td>\n",
       "      <td>1.18</td>\n",
       "      <td>0.66</td>\n",
       "      <td>0.33</td>\n",
       "      <td>36.00</td>\n",
       "    </tr>\n",
       "    <tr>\n",
       "      <th>2</th>\n",
       "      <td>3</td>\n",
       "      <td>2023-09-01 12:30:00</td>\n",
       "      <td>0</td>\n",
       "      <td>0.87</td>\n",
       "      <td>0.14</td>\n",
       "      <td>0.83</td>\n",
       "      <td>58.89</td>\n",
       "    </tr>\n",
       "    <tr>\n",
       "      <th>3</th>\n",
       "      <td>2</td>\n",
       "      <td>2023-09-01 12:45:00</td>\n",
       "      <td>1</td>\n",
       "      <td>1.00</td>\n",
       "      <td>0.37</td>\n",
       "      <td>0.52</td>\n",
       "      <td>91.80</td>\n",
       "    </tr>\n",
       "    <tr>\n",
       "      <th>4</th>\n",
       "      <td>3</td>\n",
       "      <td>2023-09-01 13:00:00</td>\n",
       "      <td>2</td>\n",
       "      <td>1.39</td>\n",
       "      <td>0.88</td>\n",
       "      <td>0.76</td>\n",
       "      <td>98.83</td>\n",
       "    </tr>\n",
       "    <tr>\n",
       "      <th>...</th>\n",
       "      <td>...</td>\n",
       "      <td>...</td>\n",
       "      <td>...</td>\n",
       "      <td>...</td>\n",
       "      <td>...</td>\n",
       "      <td>...</td>\n",
       "      <td>...</td>\n",
       "    </tr>\n",
       "    <tr>\n",
       "      <th>19995</th>\n",
       "      <td>4</td>\n",
       "      <td>2024-03-27 18:45:00</td>\n",
       "      <td>0</td>\n",
       "      <td>1.30</td>\n",
       "      <td>0.41</td>\n",
       "      <td>0.46</td>\n",
       "      <td>58.57</td>\n",
       "    </tr>\n",
       "    <tr>\n",
       "      <th>19996</th>\n",
       "      <td>4</td>\n",
       "      <td>2024-03-27 19:00:00</td>\n",
       "      <td>0</td>\n",
       "      <td>0.68</td>\n",
       "      <td>0.87</td>\n",
       "      <td>0.71</td>\n",
       "      <td>12.00</td>\n",
       "    </tr>\n",
       "    <tr>\n",
       "      <th>19997</th>\n",
       "      <td>3</td>\n",
       "      <td>2024-03-27 19:15:00</td>\n",
       "      <td>0</td>\n",
       "      <td>1.12</td>\n",
       "      <td>0.79</td>\n",
       "      <td>0.07</td>\n",
       "      <td>29.03</td>\n",
       "    </tr>\n",
       "    <tr>\n",
       "      <th>19998</th>\n",
       "      <td>2</td>\n",
       "      <td>2024-03-27 19:30:00</td>\n",
       "      <td>1</td>\n",
       "      <td>1.18</td>\n",
       "      <td>0.05</td>\n",
       "      <td>0.05</td>\n",
       "      <td>40.17</td>\n",
       "    </tr>\n",
       "    <tr>\n",
       "      <th>19999</th>\n",
       "      <td>4</td>\n",
       "      <td>2024-03-27 19:45:00</td>\n",
       "      <td>0</td>\n",
       "      <td>1.22</td>\n",
       "      <td>0.02</td>\n",
       "      <td>0.31</td>\n",
       "      <td>18.62</td>\n",
       "    </tr>\n",
       "  </tbody>\n",
       "</table>\n",
       "<p>20000 rows × 7 columns</p>\n",
       "</div>"
      ],
      "text/plain": [
       "       sensor_id           timestamp  waste_type  inductive_property  \\\n",
       "0              3 2023-09-01 12:00:00           0                0.90   \n",
       "1              4 2023-09-01 12:15:00           2                1.18   \n",
       "2              3 2023-09-01 12:30:00           0                0.87   \n",
       "3              2 2023-09-01 12:45:00           1                1.00   \n",
       "4              3 2023-09-01 13:00:00           2                1.39   \n",
       "...          ...                 ...         ...                 ...   \n",
       "19995          4 2024-03-27 18:45:00           0                1.30   \n",
       "19996          4 2024-03-27 19:00:00           0                0.68   \n",
       "19997          3 2024-03-27 19:15:00           0                1.12   \n",
       "19998          2 2024-03-27 19:30:00           1                1.18   \n",
       "19999          4 2024-03-27 19:45:00           0                1.22   \n",
       "\n",
       "       capacitive_property  moisture_property  infrared_property  \n",
       "0                     0.12               0.47              16.27  \n",
       "1                     0.66               0.33              36.00  \n",
       "2                     0.14               0.83              58.89  \n",
       "3                     0.37               0.52              91.80  \n",
       "4                     0.88               0.76              98.83  \n",
       "...                    ...                ...                ...  \n",
       "19995                 0.41               0.46              58.57  \n",
       "19996                 0.87               0.71              12.00  \n",
       "19997                 0.79               0.07              29.03  \n",
       "19998                 0.05               0.05              40.17  \n",
       "19999                 0.02               0.31              18.62  \n",
       "\n",
       "[20000 rows x 7 columns]"
      ]
     },
     "execution_count": 10,
     "metadata": {},
     "output_type": "execute_result"
    }
   ],
   "source": [
    "waste_data"
   ]
  },
  {
   "cell_type": "code",
   "execution_count": 11,
   "metadata": {},
   "outputs": [],
   "source": [
    "numeric_columns = ['inductive_property', 'capacitive_property', 'moisture_property', 'infrared_property']"
   ]
  },
  {
   "cell_type": "code",
   "execution_count": 12,
   "metadata": {},
   "outputs": [],
   "source": [
    "z_scores = waste_data[numeric_columns].apply(zscore)"
   ]
  },
  {
   "cell_type": "code",
   "execution_count": 13,
   "metadata": {},
   "outputs": [],
   "source": [
    "outlier_threshold = 3\n",
    "outliers = (z_scores.abs() > outlier_threshold).any(axis=1)"
   ]
  },
  {
   "cell_type": "code",
   "execution_count": 14,
   "metadata": {},
   "outputs": [
    {
     "name": "stdout",
     "output_type": "stream",
     "text": [
      "\n",
      "Number of Outliers Detected: 0\n"
     ]
    }
   ],
   "source": [
    "print(f\"\\nNumber of Outliers Detected: {outliers.sum()}\")"
   ]
  },
  {
   "cell_type": "code",
   "execution_count": 15,
   "metadata": {},
   "outputs": [],
   "source": [
    "cleaned_data = waste_data[~outliers]"
   ]
  },
  {
   "cell_type": "code",
   "execution_count": 16,
   "metadata": {},
   "outputs": [
    {
     "name": "stdout",
     "output_type": "stream",
     "text": [
      "Original Data Shape: (20000, 7)\n",
      "Cleaned Data Shape: (20000, 7)\n"
     ]
    }
   ],
   "source": [
    "print(\"Original Data Shape:\", waste_data.shape)\n",
    "print(\"Cleaned Data Shape:\", cleaned_data.shape)"
   ]
  },
  {
   "cell_type": "code",
   "execution_count": 17,
   "metadata": {},
   "outputs": [],
   "source": [
    "cleaned_data.columns = [col.lower().replace(\" \", \"_\") for col in cleaned_data.columns]"
   ]
  },
  {
   "cell_type": "code",
   "execution_count": 18,
   "metadata": {},
   "outputs": [
    {
     "name": "stdout",
     "output_type": "stream",
     "text": [
      "\n",
      "Data Preprocessing Complete!\n"
     ]
    }
   ],
   "source": [
    "cleaned_data.to_csv('cleaned_waste_data.csv', index=False)\n",
    "print(\"\\nData Preprocessing Complete!\")"
   ]
  },
  {
   "cell_type": "code",
   "execution_count": 19,
   "metadata": {},
   "outputs": [
    {
     "data": {
      "text/plain": [
       "<Figure size 1600x1000 with 0 Axes>"
      ]
     },
     "execution_count": 19,
     "metadata": {},
     "output_type": "execute_result"
    },
    {
     "data": {
      "text/plain": [
       "<Figure size 1600x1000 with 0 Axes>"
      ]
     },
     "metadata": {},
     "output_type": "display_data"
    }
   ],
   "source": [
    "sns.set(style=\"whitegrid\", palette=\"muted\")\n",
    "plt.figure(figsize=(16, 10))"
   ]
  },
  {
   "cell_type": "code",
   "execution_count": 20,
   "metadata": {},
   "outputs": [
    {
     "data": {
      "text/plain": [
       "Text(0, 0.5, 'Count')"
      ]
     },
     "execution_count": 20,
     "metadata": {},
     "output_type": "execute_result"
    },
    {
     "data": {
      "image/png": "[encoded data removed]",
      "text/plain": [
       "<Figure size 640x480 with 1 Axes>"
      ]
     },
     "metadata": {},
     "output_type": "display_data"
    }
   ],
   "source": [
    "# 1. Distribution of waste types\n",
    "plt.subplot(2, 2, 1)\n",
    "sns.countplot(data=cleaned_data, x='waste_type')\n",
    "plt.title('Distribution of Waste Types')\n",
    "plt.xlabel('Waste Type')\n",
    "plt.ylabel('Count')"
   ]
  },
  {
   "cell_type": "code",
   "execution_count": 21,
   "metadata": {},
   "outputs": [
    {
     "name": "stderr",
     "output_type": "stream",
     "text": [
      "C:\\Users\\athar\\AppData\\Local\\Temp\\ipykernel_26804\\2458882548.py:3: FutureWarning: \n",
      "\n",
      "The `ci` parameter is deprecated. Use `errorbar=None` for the same effect.\n",
      "\n",
      "  sns.lineplot(data=cleaned_data, x='timestamp', y='moisture_property', ci=None)\n"
     ]
    },
    {
     "data": {
      "text/plain": [
       "Text(0, 0.5, 'Moisture Property')"
      ]
     },
     "execution_count": 21,
     "metadata": {},
     "output_type": "execute_result"
    },
    {
     "data": {
      "image/png": "[encoded data removed]",
      "text/plain": [
       "<Figure size 640x480 with 1 Axes>"
      ]
     },
     "metadata": {},
     "output_type": "display_data"
    }
   ],
   "source": [
    "# 2. Time-series trend of a property\n",
    "plt.subplot(2, 2, 2)\n",
    "sns.lineplot(data=cleaned_data, x='timestamp', y='moisture_property', ci=None)\n",
    "plt.title('Time Series of Moisture Property')\n",
    "plt.xlabel('Timestamp')\n",
    "plt.ylabel('Moisture Property')"
   ]
  },
  {
   "cell_type": "code",
   "execution_count": 22,
   "metadata": {},
   "outputs": [
    {
     "data": {
      "text/plain": [
       "Text(0.5, 1.0, 'Correlation Heatmap')"
      ]
     },
     "execution_count": 22,
     "metadata": {},
     "output_type": "execute_result"
    },
    {
     "data": {
      "image/png": "[encoded data removed]",
      "text/plain": [
       "<Figure size 640x480 with 2 Axes>"
      ]
     },
     "metadata": {},
     "output_type": "display_data"
    }
   ],
   "source": [
    "# 3. Correlation heatmap\n",
    "plt.subplot(2, 2, 3)\n",
    "corr = cleaned_data[numeric_columns].corr()\n",
    "sns.heatmap(corr, annot=True, cmap=\"coolwarm\", fmt=\".2f\")\n",
    "plt.title('Correlation Heatmap')"
   ]
  },
  {
   "cell_type": "code",
   "execution_count": 23,
   "metadata": {},
   "outputs": [
    {
     "data": {
      "text/plain": [
       "Text(0, 0.5, 'Inductive Property')"
      ]
     },
     "execution_count": 23,
     "metadata": {},
     "output_type": "execute_result"
    },
    {
     "data": {
      "image/png": "[encoded data removed]",
      "text/plain": [
       "<Figure size 640x480 with 1 Axes>"
      ]
     },
     "metadata": {},
     "output_type": "display_data"
    }
   ],
   "source": [
    "# 4. Boxplot for waste properties by type\n",
    "plt.subplot(2, 2, 4)\n",
    "sns.boxplot(data=cleaned_data, x='waste_type', y='inductive_property')\n",
    "plt.title('Inductive Property by Waste Type')\n",
    "plt.xlabel('Waste Type')\n",
    "plt.ylabel('Inductive Property')\n"
   ]
  },
  {
   "cell_type": "code",
   "execution_count": 25,
   "metadata": {},
   "outputs": [
    {
     "data": {
      "text/plain": [
       "<Figure size 640x480 with 0 Axes>"
      ]
     },
     "metadata": {},
     "output_type": "display_data"
    }
   ],
   "source": [
    "# Show all plots\n",
    "plt.tight_layout()\n",
    "plt.show()"
   ]
  },
  {
   "cell_type": "code",
   "execution_count": null,
   "metadata": {},
   "outputs": [],
   "source": []
  }
 ],
 "metadata": {
  "kernelspec": {
   "display_name": "base",
   "language": "python",
   "name": "python3"
  },
  "language_info": {
   "codemirror_mode": {
    "name": "ipython",
    "version": 3
   },
   "file_extension": ".py",
   "mimetype": "text/x-python",
   "name": "python",
   "nbconvert_exporter": "python",
   "pygments_lexer": "ipython3",
   "version": "3.12.4"
  }
 },
 "nbformat": 4,
 "nbformat_minor": 2
}
